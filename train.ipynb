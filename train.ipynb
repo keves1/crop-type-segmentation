{
 "cells": [
  {
   "cell_type": "code",
   "execution_count": null,
   "metadata": {},
   "outputs": [],
   "source": [
    "%cd crop-type-segmentation/"
   ]
  },
  {
   "cell_type": "code",
   "execution_count": 2,
   "metadata": {},
   "outputs": [],
   "source": [
    "from pathlib import Path\n",
    "\n",
    "import torch\n",
    "import pytorch_lightning as pl\n",
    "from pytorch_lightning.loggers import WandbLogger\n",
    "import wandb\n",
    "\n",
    "from prithvi import PrithviSemanticSegmentation\n",
    "from datamodule import CropTypeDataModule"
   ]
  },
  {
   "cell_type": "code",
   "execution_count": 3,
   "metadata": {},
   "outputs": [],
   "source": [
    "# Modify the following configuration as needed\n",
    "config = {}\n",
    "config[\"num_classes\"] = 17\n",
    "config[\"num_frames\"] = 7\n",
    "config[\"months\"] = [2, 4, 5, 6, 7, 8, 9]\n",
    "config[\"img_size\"] = 224\n",
    "config[\"learning_rate\"] = 0.001\n",
    "config[\"decoder_num_convs\"] = 1\n",
    "config[\"in_channels\"] = 6\n",
    "config[\"channels\"] = [0, 1, 2, 3, 4, 5]\n",
    "config[\"batch_size\"] = 5\n",
    "config[\"wandb_project\"] = \"test\"\n",
    "config[\"wandb_name\"] = \"test\"\n",
    "config[\"max_epochs\"] = 1\n",
    "config[\"num_workers\"] = 4 if torch.cuda.is_available() else 0\n",
    "config[\"ckpt_path\"] = None\n",
    "config[\"train_percent\"] = 0.7"
   ]
  },
  {
   "cell_type": "markdown",
   "metadata": {},
   "source": [
    "### Load the data"
   ]
  },
  {
   "cell_type": "code",
   "execution_count": 4,
   "metadata": {},
   "outputs": [],
   "source": [
    "data_dir = Path(\"data\")"
   ]
  },
  {
   "cell_type": "code",
   "execution_count": 5,
   "metadata": {},
   "outputs": [],
   "source": [
    "datamodule = CropTypeDataModule(\n",
    "    data_dir=data_dir,\n",
    "    months=config[\"months\"],\n",
    "    channels=config[\"channels\"],\n",
    "    train_percent=config[\"train_percent\"],\n",
    "    img_size=config[\"img_size\"],\n",
    "    batch_size=config[\"batch_size\"],\n",
    "    num_workers=config[\"num_workers\"],\n",
    ")"
   ]
  },
  {
   "cell_type": "markdown",
   "metadata": {},
   "source": [
    "### Load and train the model"
   ]
  },
  {
   "cell_type": "code",
   "execution_count": 6,
   "metadata": {},
   "outputs": [],
   "source": [
    "model = PrithviSemanticSegmentation(\n",
    "    num_classes=config[\"num_classes\"],\n",
    "    in_channels=config[\"in_channels\"],\n",
    "    num_frames=config[\"num_frames\"],\n",
    "    decoder_num_convs=config[\"decoder_num_convs\"],\n",
    "    img_size=config[\"img_size\"],\n",
    "    learning_rate=config[\"learning_rate\"],\n",
    ")"
   ]
  },
  {
   "cell_type": "code",
   "execution_count": 7,
   "metadata": {},
   "outputs": [],
   "source": [
    "wandb_logger = WandbLogger(\n",
    "    name=config[\"wandb_name\"], save_dir=\"wandb-logs\", project=config[\"wandb_project\"]\n",
    ")"
   ]
  },
  {
   "cell_type": "code",
   "execution_count": null,
   "metadata": {},
   "outputs": [],
   "source": [
    "trainer = pl.Trainer(\n",
    "    logger=wandb_logger,\n",
    "    max_epochs=config[\"max_epochs\"],\n",
    "    log_every_n_steps=1,\n",
    "    # limit_train_batches=1,\n",
    "    # limit_test_batches=1,\n",
    "    fast_dev_run=1,\n",
    ")"
   ]
  },
  {
   "cell_type": "code",
   "execution_count": null,
   "metadata": {},
   "outputs": [],
   "source": [
    "trainer.fit(\n",
    "    model,\n",
    "    datamodule=datamodule,\n",
    "    ckpt_path=config[\"ckpt_path\"],\n",
    ")\n",
    "wandb_logger.experiment.config.update(config)\n",
    "wandb.finish()"
   ]
  },
  {
   "cell_type": "code",
   "execution_count": null,
   "metadata": {},
   "outputs": [],
   "source": []
  }
 ],
 "metadata": {
  "kernelspec": {
   "display_name": "base",
   "language": "python",
   "name": "python3"
  },
  "language_info": {
   "codemirror_mode": {
    "name": "ipython",
    "version": 3
   },
   "file_extension": ".py",
   "mimetype": "text/x-python",
   "name": "python",
   "nbconvert_exporter": "python",
   "pygments_lexer": "ipython3",
   "version": "3.11.6"
  }
 },
 "nbformat": 4,
 "nbformat_minor": 2
}
