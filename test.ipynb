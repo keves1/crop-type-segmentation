{
 "cells": [
  {
   "cell_type": "code",
   "execution_count": null,
   "metadata": {},
   "outputs": [],
   "source": [
    "%cd crop-type-segmentation/"
   ]
  },
  {
   "cell_type": "code",
   "execution_count": null,
   "metadata": {},
   "outputs": [],
   "source": [
    "from pathlib import Path\n",
    "\n",
    "from matplotlib import pyplot as plt\n",
    "import torch\n",
    "from sklearn.metrics import precision_recall_fscore_support, confusion_matrix\n",
    "import seaborn as sns\n",
    "import pandas as pd\n",
    "from tqdm import tqdm\n",
    "\n",
    "from prithvi import PrithviSemanticSegmentation\n",
    "from datamodule import CropTypeDataModule"
   ]
  },
  {
   "cell_type": "code",
   "execution_count": null,
   "metadata": {},
   "outputs": [],
   "source": [
    "# Modify the following configuration as needed\n",
    "config = {}\n",
    "config[\"num_classes\"] = 17\n",
    "config[\"num_frames\"] = 7\n",
    "config[\"months\"] = [2, 4, 5, 6, 7, 8, 9]\n",
    "config[\"img_size\"] = 224\n",
    "config[\"learning_rate\"] = 0.001\n",
    "config[\"decoder_num_convs\"] = 1\n",
    "config[\"in_channels\"] = 6\n",
    "config[\"channels\"] = [0, 1, 2, 3, 4, 5]\n",
    "config[\"batch_size\"] = 5\n",
    "config[\"wandb_project\"] = \"test\"\n",
    "config[\"wandb_name\"] = \"test\"\n",
    "config[\"max_epochs\"] = 1\n",
    "config[\"num_workers\"] = 4 if torch.cuda.is_available() else 0\n",
    "config[\"ckpt_path\"] = \"\"\n",
    "config[\"train_percent\"] = 0.7"
   ]
  },
  {
   "cell_type": "markdown",
   "metadata": {},
   "source": [
    "### Load the data"
   ]
  },
  {
   "cell_type": "code",
   "execution_count": null,
   "metadata": {},
   "outputs": [],
   "source": [
    "data_dir = Path(\"data\")"
   ]
  },
  {
   "cell_type": "code",
   "execution_count": null,
   "metadata": {},
   "outputs": [],
   "source": [
    "datamodule = CropTypeDataModule(\n",
    "    data_dir=data_dir,\n",
    "    months=config[\"months\"],\n",
    "    channels=config[\"channels\"],\n",
    "    train_percent=config[\"train_percent\"],\n",
    "    img_size=config[\"img_size\"],\n",
    "    batch_size=config[\"batch_size\"],\n",
    "    num_workers=config[\"num_workers\"],\n",
    ")"
   ]
  },
  {
   "cell_type": "code",
   "execution_count": null,
   "metadata": {},
   "outputs": [],
   "source": [
    "datamodule.setup(stage=None)"
   ]
  },
  {
   "cell_type": "code",
   "execution_count": null,
   "metadata": {},
   "outputs": [],
   "source": [
    "print(f\"len train dataset: {len(datamodule.train_dataset)}\")\n",
    "print(f\"len val dataset: {len(datamodule.val_dataset)}\")"
   ]
  },
  {
   "cell_type": "code",
   "execution_count": null,
   "metadata": {},
   "outputs": [],
   "source": [
    "model = PrithviSemanticSegmentation.load_from_checkpoint(\n",
    "    checkpoint_path=config[\"ckpt_path\"],\n",
    "    num_classes=config[\"num_classes\"],\n",
    "    in_channels=config[\"in_channels\"],\n",
    "    num_frames=config[\"num_frames\"],\n",
    "    decoder_num_convs=config[\"decoder_num_convs\"],\n",
    "    img_size=config[\"img_size\"],\n",
    "    learning_rate=config[\"learning_rate\"],\n",
    ")"
   ]
  },
  {
   "cell_type": "markdown",
   "metadata": {},
   "source": [
    "### Val dataset"
   ]
  },
  {
   "cell_type": "code",
   "execution_count": null,
   "metadata": {},
   "outputs": [],
   "source": [
    "model.eval()\n",
    "\n",
    "all_y_val = []\n",
    "all_pred_val = []\n",
    "for batch in tqdm(datamodule.val_dataloader()):\n",
    "    x, y = batch\n",
    "    pred = model.model(x)\n",
    "    pred = torch.argmax(pred.output, dim=1)\n",
    "    y_flat = y.flatten()\n",
    "    pred_flat = pred.flatten()\n",
    "    all_y_val.extend(y_flat)\n",
    "    all_pred_val.extend(pred_flat)"
   ]
  },
  {
   "cell_type": "code",
   "execution_count": null,
   "metadata": {},
   "outputs": [],
   "source": [
    "classes_used = {\n",
    "    \"class_ids\": [0, 1, 2, 3, 4, 5, 6, 7, 8, 9, 10, 11, 12, 13, 14, 15, 16],\n",
    "    \"class_names\": [\n",
    "        \"Other\",\n",
    "        \"Rice\",\n",
    "        \"Sunflower\",\n",
    "        \"Winter Wheat\",\n",
    "        \"Alfalfa\",\n",
    "        \"Other Hay/Non Alfalfa\",\n",
    "        \"Tomatoes\",\n",
    "        \"Fallow/Idle Cropland\",\n",
    "        \"Almonds\",\n",
    "        \"Walnuts\",\n",
    "        \"Open Water\",\n",
    "        \"Evergreen Forest\",\n",
    "        \"Shrubland\",\n",
    "        \"Grassland/Pasture\",\n",
    "        \"Herbaceous Wetlands\",\n",
    "        \"Plums\",\n",
    "        \"Developed\",\n",
    "    ],\n",
    "}"
   ]
  },
  {
   "cell_type": "code",
   "execution_count": null,
   "metadata": {},
   "outputs": [],
   "source": [
    "cm = confusion_matrix(all_y_val, all_pred_val, normalize=\"true\")"
   ]
  },
  {
   "cell_type": "code",
   "execution_count": null,
   "metadata": {},
   "outputs": [],
   "source": [
    "plt.figure(figsize=(8, 6))\n",
    "sns.heatmap(\n",
    "    cm,\n",
    "    cmap=\"Blues\",\n",
    "    cbar=False,\n",
    "    linewidths=1,\n",
    "    linecolor=\"black\",\n",
    "    xticklabels=classes_used[\"class_names\"],\n",
    "    yticklabels=classes_used[\"class_names\"],\n",
    ")\n",
    "plt.ylabel(\"Actual\")\n",
    "plt.xlabel(\"Predicted\")\n",
    "plt.title(\"Confusion Matrix\")\n",
    "plt.show()"
   ]
  },
  {
   "cell_type": "code",
   "execution_count": null,
   "metadata": {},
   "outputs": [],
   "source": [
    "precision, recall, f1, _ = precision_recall_fscore_support(all_y_val, all_pred_val)"
   ]
  },
  {
   "cell_type": "code",
   "execution_count": null,
   "metadata": {},
   "outputs": [],
   "source": [
    "val_metrics = pd.DataFrame(\n",
    "    {\n",
    "        \"class\": classes_used[\"class_names\"],\n",
    "        \"precision\": precision,\n",
    "        \"recall\": recall,\n",
    "        \"f1\": f1,\n",
    "    }\n",
    ")"
   ]
  },
  {
   "cell_type": "code",
   "execution_count": null,
   "metadata": {},
   "outputs": [],
   "source": [
    "val_metrics"
   ]
  },
  {
   "cell_type": "markdown",
   "metadata": {},
   "source": [
    "### Train dataset"
   ]
  },
  {
   "cell_type": "code",
   "execution_count": null,
   "metadata": {},
   "outputs": [],
   "source": [
    "all_y_train = []\n",
    "all_pred_train = []\n",
    "for batch in tqdm(datamodule.train_dataloader()):\n",
    "    x, y = batch\n",
    "    pred = model.model(x)\n",
    "    pred = torch.argmax(pred.output, dim=1)\n",
    "    y_flat = y.flatten()\n",
    "    pred_flat = pred.flatten()\n",
    "    all_y_train.extend(y_flat)\n",
    "    all_pred_train.extend(pred_flat)"
   ]
  },
  {
   "cell_type": "code",
   "execution_count": null,
   "metadata": {},
   "outputs": [],
   "source": [
    "precision, recall, f1, _ = precision_recall_fscore_support(all_y_train, all_pred_train)"
   ]
  },
  {
   "cell_type": "code",
   "execution_count": null,
   "metadata": {},
   "outputs": [],
   "source": [
    "train_metrics = pd.DataFrame(\n",
    "    {\n",
    "        \"class\": classes_used[\"class_names\"],\n",
    "        \"precision\": precision,\n",
    "        \"recall\": recall,\n",
    "        \"f1\": f1,\n",
    "    }\n",
    ")"
   ]
  },
  {
   "cell_type": "code",
   "execution_count": null,
   "metadata": {},
   "outputs": [],
   "source": [
    "train_metrics"
   ]
  }
 ],
 "metadata": {
  "kernelspec": {
   "display_name": "base",
   "language": "python",
   "name": "python3"
  },
  "language_info": {
   "codemirror_mode": {
    "name": "ipython",
    "version": 3
   },
   "file_extension": ".py",
   "mimetype": "text/x-python",
   "name": "python",
   "nbconvert_exporter": "python",
   "pygments_lexer": "ipython3",
   "version": "3.11.6"
  }
 },
 "nbformat": 4,
 "nbformat_minor": 2
}
